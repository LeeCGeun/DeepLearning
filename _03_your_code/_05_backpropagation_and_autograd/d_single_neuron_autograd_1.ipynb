{
 "cells": [
  {
   "cell_type": "code",
   "execution_count": 1,
   "metadata": {},
   "outputs": [
    {
     "ename": "ModuleNotFoundError",
     "evalue": "No module named 'a_single_neuron'",
     "output_type": "error",
     "traceback": [
      "\u001b[1;31m---------------------------------------------------------------------------\u001b[0m",
      "\u001b[1;31mModuleNotFoundError\u001b[0m                       Traceback (most recent call last)",
      "Cell \u001b[1;32mIn[1], line 6\u001b[0m\n\u001b[0;32m      3\u001b[0m \u001b[38;5;28;01mimport\u001b[39;00m \u001b[38;5;21;01msys\u001b[39;00m\n\u001b[0;32m      4\u001b[0m sys\u001b[38;5;241m.\u001b[39mpath\u001b[38;5;241m.\u001b[39mappend(\u001b[38;5;124m'\u001b[39m\u001b[38;5;124mc:\u001b[39m\u001b[38;5;130;01m\\\\\u001b[39;00m\u001b[38;5;124mgit_deeplearning\u001b[39m\u001b[38;5;130;01m\\\\\u001b[39;00m\u001b[38;5;124mDeepLearning\u001b[39m\u001b[38;5;130;01m\\\\\u001b[39;00m\u001b[38;5;124m_03_your_code\u001b[39m\u001b[38;5;130;01m\\\\\u001b[39;00m\u001b[38;5;124m_04_artificial_neuron_and_gradient_descent\u001b[39m\u001b[38;5;124m'\u001b[39m)\n\u001b[1;32m----> 6\u001b[0m \u001b[38;5;28;01mfrom\u001b[39;00m \u001b[38;5;21;01ma_single_neuron\u001b[39;00m \u001b[38;5;28;01mimport\u001b[39;00m mo\n",
      "\u001b[1;31mModuleNotFoundError\u001b[0m: No module named 'a_single_neuron'"
     ]
    }
   ],
   "source": [
    "import torch\n",
    "from torch.utils.data import DataLoader\n",
    "import sys\n",
    "sys.path.append('c:\\\\git_deeplearning\\\\DeepLearning\\\\_03_your_code\\\\_04_artificial_neuron_and_gradient_descent')\n",
    "\n",
    "from a_single_neuron import\n",
    "# from a_single_neuron import model, loss_fn, SimpleDataset"
   ]
  },
  {
   "cell_type": "code",
   "execution_count": 2,
   "metadata": {},
   "outputs": [
    {
     "data": {
      "text/plain": [
       "'c:\\\\git_deeplearning\\\\DeepLearning\\\\_03_your_code\\\\_05_backpropagation_and_autograd'"
      ]
     },
     "execution_count": 2,
     "metadata": {},
     "output_type": "execute_result"
    }
   ],
   "source": [
    "import os\n",
    "os.getcwd()"
   ]
  },
  {
   "cell_type": "code",
   "execution_count": null,
   "metadata": {},
   "outputs": [],
   "source": [
    "def learn(W, b, train_data_loader):\n",
    "  MAX_EPOCHS = 20_000\n",
    "  LEARNING_RATE = 0.01\n",
    "\n",
    "  for epoch in range(0, MAX_EPOCHS):\n",
    "    batch = next(iter(train_data_loader))\n",
    "    y_pred = model(batch[\"input\"], W, b)\n",
    "    loss = loss_fn(y_pred, batch[\"target\"])\n",
    "\n",
    "    loss.backward()\n",
    "\n",
    "    if epoch % 100 == 0:\n",
    "      print(\"[Epoch:{0:6,}] loss:{1:8.5f}, w0:{2:6.3f}, w1:{3:6.3f}, b:{4:6.3f}\".format(\n",
    "        epoch, loss.item(), W[0].item(), W[1].item(), b.item()\n",
    "      ), end=\", \")\n",
    "      print(\"W.grad: {0}, b.grad:{1}\".format(W.grad, b.grad))\n",
    "\n",
    "    with torch.no_grad():\n",
    "      W -= LEARNING_RATE * W.grad\n",
    "      b -= LEARNING_RATE * b.grad\n",
    "      W.grad = None\n",
    "      b.grad = None"
   ]
  },
  {
   "cell_type": "code",
   "execution_count": 2,
   "metadata": {},
   "outputs": [
    {
     "ename": "NameError",
     "evalue": "name 'SimpleDataset' is not defined",
     "output_type": "error",
     "traceback": [
      "\u001b[1;31m---------------------------------------------------------------------------\u001b[0m",
      "\u001b[1;31mNameError\u001b[0m                                 Traceback (most recent call last)",
      "Cell \u001b[1;32mIn[2], line 11\u001b[0m\n\u001b[0;32m      7\u001b[0m   learn(W, b, train_data_loader)\n\u001b[0;32m     10\u001b[0m \u001b[38;5;28;01mif\u001b[39;00m \u001b[38;5;18m__name__\u001b[39m \u001b[38;5;241m==\u001b[39m \u001b[38;5;124m\"\u001b[39m\u001b[38;5;124m__main__\u001b[39m\u001b[38;5;124m\"\u001b[39m:\n\u001b[1;32m---> 11\u001b[0m   \u001b[43mmain\u001b[49m\u001b[43m(\u001b[49m\u001b[43m)\u001b[49m\n",
      "Cell \u001b[1;32mIn[2], line 5\u001b[0m, in \u001b[0;36mmain\u001b[1;34m()\u001b[0m\n\u001b[0;32m      2\u001b[0m W \u001b[38;5;241m=\u001b[39m torch\u001b[38;5;241m.\u001b[39mones((\u001b[38;5;241m2\u001b[39m,), requires_grad\u001b[38;5;241m=\u001b[39m\u001b[38;5;28;01mTrue\u001b[39;00m)\n\u001b[0;32m      3\u001b[0m b \u001b[38;5;241m=\u001b[39m torch\u001b[38;5;241m.\u001b[39mzeros((\u001b[38;5;241m1\u001b[39m,), requires_grad\u001b[38;5;241m=\u001b[39m\u001b[38;5;28;01mTrue\u001b[39;00m)\n\u001b[1;32m----> 5\u001b[0m simple_dataset \u001b[38;5;241m=\u001b[39m \u001b[43mSimpleDataset\u001b[49m()\n\u001b[0;32m      6\u001b[0m train_data_loader \u001b[38;5;241m=\u001b[39m DataLoader(dataset\u001b[38;5;241m=\u001b[39msimple_dataset, batch_size\u001b[38;5;241m=\u001b[39m\u001b[38;5;28mlen\u001b[39m(simple_dataset))\n\u001b[0;32m      7\u001b[0m learn(W, b, train_data_loader)\n",
      "\u001b[1;31mNameError\u001b[0m: name 'SimpleDataset' is not defined"
     ]
    }
   ],
   "source": [
    "def main():\n",
    "  W = torch.ones((2,), requires_grad=True)\n",
    "  b = torch.zeros((1,), requires_grad=True)\n",
    "\n",
    "  simple_dataset = SimpleDataset()\n",
    "  train_data_loader = DataLoader(dataset=simple_dataset, batch_size=len(simple_dataset))\n",
    "  learn(W, b, train_data_loader)\n",
    "\n",
    "\n",
    "if __name__ == \"__main__\":\n",
    "  main()\n"
   ]
  }
 ],
 "metadata": {
  "kernelspec": {
   "display_name": "link_dl",
   "language": "python",
   "name": "python3"
  },
  "language_info": {
   "codemirror_mode": {
    "name": "ipython",
    "version": 3
   },
   "file_extension": ".py",
   "mimetype": "text/x-python",
   "name": "python",
   "nbconvert_exporter": "python",
   "pygments_lexer": "ipython3",
   "version": "3.10.14"
  }
 },
 "nbformat": 4,
 "nbformat_minor": 2
}
