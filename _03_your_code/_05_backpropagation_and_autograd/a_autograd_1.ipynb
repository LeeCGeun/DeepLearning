{
 "cells": [
  {
   "cell_type": "code",
   "execution_count": 10,
   "metadata": {},
   "outputs": [
    {
     "name": "stdout",
     "output_type": "stream",
     "text": [
      "tensor([1., 1., 1.], requires_grad=True)\n",
      "None None\n",
      "tensor([3., 3., 3.], grad_fn=<AddBackward0>)\n",
      "<AddBackward0 object at 0x0000018CF0A5E590>\n",
      "tensor([9., 9., 9.], grad_fn=<MulBackward0>)\n",
      "<MulBackward0 object at 0x0000018CD8A9BD30>\n",
      "tensor(9., grad_fn=<MeanBackward0>)\n",
      "torch.Size([])\n",
      "<MeanBackward0 object at 0x0000018CD8A9BD30>\n",
      "tensor([1., 1., 1.])\n"
     ]
    }
   ],
   "source": [
    "# https://www.python-engineer.com/courses/pytorchbeginner/03-autograd/\n",
    "import torch\n",
    "\n",
    "# requires_grad = True -> tracks all operations on the tensor.\n",
    "w = torch.ones(3, requires_grad=True)\n",
    "print(w)  # >>> tensor([1., 1., 1.], requires_grad=True)\n",
    "# x is created by the user -> grad_fn is None\n",
    "print(w.grad, w.grad_fn)  # >>> None, None\n",
    "\n",
    "\n",
    "c = torch.tensor([2])\n",
    "# x was created as a result of an operation, so it has a grad_fn attribute.\n",
    "x = w + c\n",
    "print(x)  # >>> tensor([3., 3., 3.], grad_fn=<AddBackward0>)\n",
    "# grad_fn: references a Function that has created the Tensor\n",
    "print(x.grad_fn)  # >>> None, <AddBackward0 object at 0x11b082ef0>\n",
    "# x.retain_grad() # If you indeed want the Tensor.gradfield to bepopulated for a non-leaf Tensor\n",
    "\n",
    "\n",
    "# Do more operations on x\n",
    "y = x * 3\n",
    "print(y)  # >>> tensor([27., 27., 27.], grad_fn=<MulBackward0>)\n",
    "print(y.grad_fn)  # >>> None, <AddBackward0 object at 0x11b082ef0>\n",
    "# y.retain_grad()\n",
    "\n",
    "\n",
    "# Make the output scalar\n",
    "z = y.mean()\n",
    "print(z)  # >>> tensor(27., grad_fn=<MeanBackward0>)\n",
    "print(z.shape)  # >>> torch.Size([])\n",
    "print(z.grad_fn)  # >>> None, <MeanBackward0 object at 0x11b082ef0>\n",
    "# z.retain_grad()\n",
    "\n",
    "\n",
    "z.backward()\n",
    "\n",
    "# print(z.grad)\n",
    "# print(y.grad)\n",
    "# print(x.grad)\n",
    "print(w.grad)"
   ]
  }
 ],
 "metadata": {
  "kernelspec": {
   "display_name": "link_dl",
   "language": "python",
   "name": "python3"
  },
  "language_info": {
   "codemirror_mode": {
    "name": "ipython",
    "version": 3
   },
   "file_extension": ".py",
   "mimetype": "text/x-python",
   "name": "python",
   "nbconvert_exporter": "python",
   "pygments_lexer": "ipython3",
   "version": "3.10.14"
  }
 },
 "nbformat": 4,
 "nbformat_minor": 2
}
