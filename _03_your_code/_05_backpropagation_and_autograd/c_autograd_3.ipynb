{
 "cells": [
  {
   "cell_type": "code",
   "execution_count": 4,
   "metadata": {},
   "outputs": [
    {
     "name": "stdout",
     "output_type": "stream",
     "text": [
      "[output 0]: tensor(12., grad_fn=<SumBackward0>)\n",
      "weights.grad: tensor([3., 3., 3., 3.])\n",
      "weights: tensor([0.7000, 0.7000, 0.7000, 0.7000], requires_grad=True)\n",
      "\n",
      "[output 1]: tensor(8.4000, grad_fn=<SumBackward0>)\n",
      "weights.grad: tensor([3., 3., 3., 3.])\n",
      "weights: tensor([0.4000, 0.4000, 0.4000, 0.4000], requires_grad=True)\n",
      "\n",
      "[output 2]: tensor(4.8000, grad_fn=<SumBackward0>)\n",
      "weights.grad: tensor([3., 3., 3., 3.])\n",
      "weights: tensor([0.1000, 0.1000, 0.1000, 0.1000], requires_grad=True)\n",
      "\n",
      "\n",
      "[output final]: tensor(1.2000, grad_fn=<SumBackward0>)\n"
     ]
    }
   ],
   "source": [
    "# https://www.python-engineer.com/courses/pytorchbeginner/03-autograd/\n",
    "import torch\n",
    "\n",
    "weights = torch.ones(4, requires_grad=True)\n",
    "\n",
    "for epoch in range(3):\n",
    "  # just a dummy example\n",
    "  output = (weights * 3).sum()\n",
    "  print(\"[output {0}]:\".format(epoch), output)\n",
    "  output.backward()\n",
    "\n",
    "  print(\"weights.grad:\", weights.grad)\n",
    "\n",
    "  # optimize model, i.e. adjust weights...\n",
    "  with torch.no_grad():\n",
    "    weights -= 0.1 * weights.grad\n",
    "    # 'empty gradients' is important!\n",
    "    # It affects the final weights & output\n",
    "    weights.grad.zero_()\n",
    "\n",
    "  print(\"weights:\", weights)\n",
    "  print()\n",
    "\n",
    "output = (weights * 3).sum()\n",
    "print(\"\\n[output final]:\", output)"
   ]
  },
  {
   "cell_type": "code",
   "execution_count": 5,
   "metadata": {},
   "outputs": [],
   "source": [
    "weights = torch.ones(4, requires_grad=True)\n",
    "optimizer = torch.optim.SGD([weights], lr=0.1)"
   ]
  },
  {
   "cell_type": "code",
   "execution_count": 6,
   "metadata": {},
   "outputs": [
    {
     "name": "stdout",
     "output_type": "stream",
     "text": [
      "[output 0]: tensor(12., grad_fn=<SumBackward0>)\n",
      "weights.grad: tensor([3., 3., 3., 3.])\n",
      "weights: tensor([0.7000, 0.7000, 0.7000, 0.7000], requires_grad=True)\n",
      "\n",
      "[output 1]: tensor(8.4000, grad_fn=<SumBackward0>)\n",
      "weights.grad: tensor([3., 3., 3., 3.])\n",
      "weights: tensor([0.4000, 0.4000, 0.4000, 0.4000], requires_grad=True)\n",
      "\n",
      "[output 2]: tensor(4.8000, grad_fn=<SumBackward0>)\n",
      "weights.grad: tensor([3., 3., 3., 3.])\n",
      "weights: tensor([0.1000, 0.1000, 0.1000, 0.1000], requires_grad=True)\n",
      "\n"
     ]
    }
   ],
   "source": [
    "for epoch in range(3):\n",
    "  # just a dummy example\n",
    "  output = (weights * 3).sum()\n",
    "  print(\"[output {0}]:\".format(epoch), output)\n",
    "  output.backward()\n",
    "\n",
    "  print(\"weights.grad:\", weights.grad)\n",
    "  # optimize model, i.e. adjust weights & empty gradients\n",
    "  optimizer.step()\n",
    "  optimizer.zero_grad()\n",
    "\n",
    "  print(\"weights:\", weights)\n",
    "  print()"
   ]
  },
  {
   "cell_type": "code",
   "execution_count": 7,
   "metadata": {},
   "outputs": [
    {
     "name": "stdout",
     "output_type": "stream",
     "text": [
      "\n",
      "[output final]: tensor(1.2000, grad_fn=<SumBackward0>)\n"
     ]
    }
   ],
   "source": [
    "output = (weights * 3).sum()\n",
    "print(\"\\n[output final]:\", output)"
   ]
  }
 ],
 "metadata": {
  "kernelspec": {
   "display_name": "link_dl",
   "language": "python",
   "name": "python3"
  },
  "language_info": {
   "codemirror_mode": {
    "name": "ipython",
    "version": 3
   },
   "file_extension": ".py",
   "mimetype": "text/x-python",
   "name": "python",
   "nbconvert_exporter": "python",
   "pygments_lexer": "ipython3",
   "version": "3.10.14"
  }
 },
 "nbformat": 4,
 "nbformat_minor": 2
}
