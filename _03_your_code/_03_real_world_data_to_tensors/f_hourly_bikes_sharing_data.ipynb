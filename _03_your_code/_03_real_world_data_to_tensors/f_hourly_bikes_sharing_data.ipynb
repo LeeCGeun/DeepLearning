{
 "cells": [
  {
   "cell_type": "markdown",
   "metadata": {},
   "source": [
    "## Loading the bike-sharing data and change it into tensor"
   ]
  },
  {
   "cell_type": "code",
   "execution_count": 76,
   "metadata": {},
   "outputs": [],
   "source": [
    "import os\n",
    "import numpy as np\n",
    "import torch\n",
    "from pathlib import Path"
   ]
  },
  {
   "cell_type": "code",
   "execution_count": 77,
   "metadata": {},
   "outputs": [
    {
     "data": {
      "text/plain": [
       "'c:\\\\git_deeplearning\\\\DeepLearning\\\\_03_your_code\\\\_03_real_world_data_to_tensors'"
      ]
     },
     "execution_count": 77,
     "metadata": {},
     "output_type": "execute_result"
    }
   ],
   "source": [
    "# BASE_PATH = str(Path(__file__).resolve().parent.parent.parent) # BASE_PATH: /Users/yhhan/git/link_dl\n",
    "# import sys\n",
    "# sys.path.append(BASE_PATH)\n",
    "os.getcwd()"
   ]
  },
  {
   "cell_type": "code",
   "execution_count": 86,
   "metadata": {},
   "outputs": [
    {
     "name": "stdout",
     "output_type": "stream",
     "text": [
      "torch.Size([17520, 17])\n",
      "torch.Size([17520, 1])\n"
     ]
    }
   ],
   "source": [
    "torch.set_printoptions(edgeitems=2, threshold=50, linewidth=75)\n",
    "\n",
    "bikes_path = os.path.join(os.path.pardir, os.path.pardir, \"_00_data\", \"e_time-series-bike-sharing-dataset\", \"hour-fixed.csv\")\n",
    "\n",
    "bikes_numpy = np.loadtxt(\n",
    "  fname=bikes_path, dtype=np.float32, delimiter=\",\", skiprows=1,\n",
    "  converters={\n",
    "    1: lambda x: float(x[8:10])  # 2011-01-07 --> 07 --> 7\n",
    "  }\n",
    ")\n",
    "bikes_data = torch.from_numpy(bikes_numpy).to(torch.float)\n",
    "print(bikes_data.shape)    # >>> torch.Size([17520, 17]) : 17520 시간\n",
    "bikes_target = bikes_data[:, -1].unsqueeze(dim=-1)  # 'cnt'\n",
    "bikes_data = bikes_data[:, :-1]   # >>> torch.Size([17520, 16])\n",
    "print(bikes_target.shape)"
   ]
  },
  {
   "cell_type": "markdown",
   "metadata": {},
   "source": [
    "## For all data, change nominal data by one-hot encoding"
   ]
  },
  {
   "cell_type": "code",
   "execution_count": 79,
   "metadata": {},
   "outputs": [
    {
     "name": "stdout",
     "output_type": "stream",
     "text": [
      "torch.Size([17520, 18])\n",
      "tensor([ 1.0000,  1.0000,  0.0000,  1.0000,  0.0000,  0.0000,  6.0000,\n",
      "         0.0000,  0.2400,  0.2879,  0.8100,  0.0000,  3.0000, 13.0000,\n",
      "         1.0000,  0.0000,  0.0000,  0.0000])\n"
     ]
    }
   ],
   "source": [
    "eye_matrix = torch.eye(4)\n",
    "\n",
    "data_torch_list = []\n",
    "for idx in range(bikes_data.shape[0]):  # range(730)\n",
    "  hour_data = bikes_data[idx]  # hour_data.shape: [17]\n",
    "  weather_onehot = eye_matrix[hour_data[9].long() - 1]\n",
    "  concat_data_torch = torch.cat(tensors=(hour_data, weather_onehot), dim=-1) # hour_data : [20], weather_onehot : [4]\n",
    "  # concat_data_torch.shape: [20]\n",
    "  data_torch_list.append(concat_data_torch)\n",
    "\n",
    "bikes_data = torch.stack(data_torch_list, dim=0)\n",
    "bikes_data = torch.cat([bikes_data[:, 1:9], bikes_data[:, 10:]], dim=-1)\n",
    "# Drop 'instant' and 'whethersit' columns\n",
    "\n",
    "print(bikes_data.shape)\n",
    "print(bikes_data[0])"
   ]
  },
  {
   "cell_type": "markdown",
   "metadata": {},
   "source": [
    "## Data size: train size, validation size, test size"
   ]
  },
  {
   "cell_type": "code",
   "execution_count": 80,
   "metadata": {},
   "outputs": [
    {
     "name": "stdout",
     "output_type": "stream",
     "text": [
      "data_size: 17497\n",
      "train_size: 17377, validation_size: 96, test_size: 24\n"
     ]
    }
   ],
   "source": [
    "sequence_size = 24 # 24hrs, 1day를 하나의 sequence로\n",
    "validation_size = 96\n",
    "test_size = 24\n",
    "y_normalizer = 100\n",
    "\n",
    "data_size = len(bikes_data) - sequence_size + 1\n",
    "print(\"data_size: {0}\".format(data_size))\n",
    "train_size = data_size - (validation_size + test_size)\n",
    "print(\"train_size: {0}, validation_size: {1}, test_size: {2}\".format(train_size, validation_size, test_size))"
   ]
  },
  {
   "cell_type": "markdown",
   "metadata": {},
   "source": [
    "## Train Data Preparation"
   ]
  },
  {
   "cell_type": "code",
   "execution_count": 81,
   "metadata": {},
   "outputs": [
    {
     "name": "stdout",
     "output_type": "stream",
     "text": [
      "torch.Size([17377, 24, 18])\n",
      "17377\n",
      "torch.Size([17377, 24, 18]) torch.Size([17377])\n"
     ]
    }
   ],
   "source": [
    "row_cursor = 0\n",
    "\n",
    "X_train_list = []\n",
    "y_train_regression_list = []\n",
    "for idx in range(0, train_size):\n",
    "  sequence_data = bikes_data[idx: idx + sequence_size]\n",
    "  sequence_target = bikes_target[idx + sequence_size - 1]\n",
    "  X_train_list.append(sequence_data)\n",
    "  y_train_regression_list.append(sequence_target)\n",
    "  row_cursor += 1\n",
    "\n",
    "X_train = torch.stack(X_train_list, dim=0).to(torch.float)\n",
    "print(X_train.shape)\n",
    "y_train_regression = torch.tensor(y_train_regression_list, dtype=torch.float32) / y_normalizer\n",
    "print(len(y_train_regression))\n",
    "\n",
    "m = X_train.mean(dim=0, keepdim=True)\n",
    "s = X_train.std(dim=0, keepdim=True)\n",
    "X_train = (X_train - m) / s\n",
    "\n",
    "print(X_train.shape, y_train_regression.shape)\n",
    "# >>> torch.Size([17376, 24, 16]) torch.Size([17377])"
   ]
  },
  {
   "cell_type": "code",
   "execution_count": 82,
   "metadata": {},
   "outputs": [
    {
     "data": {
      "text/plain": [
       "(17377, 17473)"
      ]
     },
     "execution_count": 82,
     "metadata": {},
     "output_type": "execute_result"
    }
   ],
   "source": [
    "row_cursor, row_cursor + 96"
   ]
  },
  {
   "cell_type": "markdown",
   "metadata": {},
   "source": [
    "## Validation Data Preparation"
   ]
  },
  {
   "cell_type": "code",
   "execution_count": 83,
   "metadata": {},
   "outputs": [
    {
     "name": "stdout",
     "output_type": "stream",
     "text": [
      "torch.Size([96, 24, 18]) torch.Size([96])\n"
     ]
    }
   ],
   "source": [
    "X_validation_list = []\n",
    "y_validation_regression_list = []\n",
    "for idx in range(row_cursor, row_cursor + validation_size):\n",
    "  sequence_data = bikes_data[idx: idx + sequence_size]\n",
    "  sequence_target = bikes_target[idx + sequence_size - 1]\n",
    "  X_validation_list.append(sequence_data)\n",
    "  y_validation_regression_list.append(sequence_target)\n",
    "  row_cursor += 1\n",
    "\n",
    "X_validation = torch.stack(X_validation_list, dim=0).to(torch.float)\n",
    "y_validation_regression = torch.tensor(y_validation_regression_list, dtype=torch.float32) / y_normalizer\n",
    "\n",
    "X_validation = (X_validation - m) / s\n",
    "\n",
    "print(X_validation.shape, y_validation_regression.shape)\n",
    "# >>> torch.Size([96, 24, 19]) torch.Size([96])"
   ]
  },
  {
   "cell_type": "code",
   "execution_count": 84,
   "metadata": {},
   "outputs": [
    {
     "data": {
      "text/plain": [
       "(17473, 17497)"
      ]
     },
     "execution_count": 84,
     "metadata": {},
     "output_type": "execute_result"
    }
   ],
   "source": [
    "row_cursor, row_cursor + test_size"
   ]
  },
  {
   "cell_type": "markdown",
   "metadata": {},
   "source": [
    "## Test Data Preparation"
   ]
  },
  {
   "cell_type": "code",
   "execution_count": 85,
   "metadata": {},
   "outputs": [
    {
     "name": "stdout",
     "output_type": "stream",
     "text": [
      "torch.Size([24, 24, 18]) torch.Size([24])\n"
     ]
    }
   ],
   "source": [
    "X_test_list = []\n",
    "y_test_regression_list = []\n",
    "for idx in range(row_cursor, row_cursor + test_size):\n",
    "  sequence_data = bikes_data[idx: idx + test_size]\n",
    "  sequence_target = bikes_target[idx + test_size - 1]\n",
    "  X_test_list.append(sequence_data)\n",
    "  y_test_regression_list.append(sequence_target)\n",
    "  row_cursor += 1\n",
    "\n",
    "X_test = torch.stack(X_test_list, dim=0).to(torch.float)\n",
    "y_test_regression = torch.tensor(y_test_regression_list, dtype=torch.float32) / y_normalizer\n",
    "\n",
    "X_test -= (X_test - m) / s\n",
    "\n",
    "print(X_test.shape, y_test_regression.shape)\n",
    "# >>> torch.Size([24, 24, 18]) torch.Size([24])"
   ]
  }
 ],
 "metadata": {
  "kernelspec": {
   "display_name": "link_dl",
   "language": "python",
   "name": "python3"
  },
  "language_info": {
   "codemirror_mode": {
    "name": "ipython",
    "version": 3
   },
   "file_extension": ".py",
   "mimetype": "text/x-python",
   "name": "python",
   "nbconvert_exporter": "python",
   "pygments_lexer": "ipython3",
   "version": "3.10.14"
  }
 },
 "nbformat": 4,
 "nbformat_minor": 2
}
